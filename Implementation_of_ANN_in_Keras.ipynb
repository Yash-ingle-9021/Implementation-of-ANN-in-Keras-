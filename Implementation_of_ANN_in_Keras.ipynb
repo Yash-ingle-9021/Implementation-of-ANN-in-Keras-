{
  "nbformat": 4,
  "nbformat_minor": 0,
  "metadata": {
    "colab": {
      "provenance": []
    },
    "kernelspec": {
      "name": "python3",
      "display_name": "Python 3"
    },
    "language_info": {
      "name": "python"
    }
  },
  "cells": [
    {
      "cell_type": "markdown",
      "source": [
        "# Implementation Of ANN In Keras"
      ],
      "metadata": {
        "id": "OlugySAvqdF9"
      }
    },
    {
      "cell_type": "markdown",
      "source": [
        "# Importing nacessary library"
      ],
      "metadata": {
        "id": "77QE17TW6nGp"
      }
    },
    {
      "cell_type": "code",
      "execution_count": 22,
      "metadata": {
        "id": "kML-n2xvoXlq"
      },
      "outputs": [],
      "source": [
        "import numpy as np\n",
        "import pandas as pd\n",
        "import matplotlib.pyplot as plt\n",
        "import tensorflow as tf\n",
        "from sklearn.model_selection import train_test_split\n",
        "from sklearn.preprocessing import StandardScaler\n",
        "from tensorflow.keras.models import Sequential\n",
        "from tensorflow.keras import layers"
      ]
    },
    {
      "cell_type": "markdown",
      "source": [
        "# Q1"
      ],
      "metadata": {
        "id": "uJx7l_Qg6tGA"
      }
    },
    {
      "cell_type": "code",
      "source": [
        "print(\"TensorFlow Version :\",tf.__version__)\n",
        "print(\"Keras Version :\",tf.keras.__version__)"
      ],
      "metadata": {
        "colab": {
          "base_uri": "https://localhost:8080/"
        },
        "id": "j7Unb8IusgcK",
        "outputId": "ceb1283a-ac69-4e81-81af-de20c6be70b3"
      },
      "execution_count": 3,
      "outputs": [
        {
          "output_type": "stream",
          "name": "stdout",
          "text": [
            "TensorFlow Version : 2.12.0\n",
            "Keras Version : 2.12.0\n"
          ]
        }
      ]
    },
    {
      "cell_type": "markdown",
      "source": [
        "# Q2"
      ],
      "metadata": {
        "id": "R1yMoGd164Qo"
      }
    },
    {
      "cell_type": "code",
      "source": [
        "wine_data = pd.read_csv('/content/wine.csv')\n",
        "print(\"Dimensions of the Wine Quality dataset:\",wine_data.shape)"
      ],
      "metadata": {
        "colab": {
          "base_uri": "https://localhost:8080/"
        },
        "id": "-H-ETph5rKCY",
        "outputId": "1588fdd7-1a99-4137-e1c2-c36497716cb7"
      },
      "execution_count": 4,
      "outputs": [
        {
          "output_type": "stream",
          "name": "stdout",
          "text": [
            "Dimensions of the Wine Quality dataset: (1599, 12)\n"
          ]
        }
      ]
    },
    {
      "cell_type": "markdown",
      "source": [
        "# Q3"
      ],
      "metadata": {
        "id": "PzQQ-CyF68YR"
      }
    },
    {
      "cell_type": "code",
      "source": [
        "print(\"Null Values : \",wine_data.isnull().sum())\n",
        "wine_data['quality'].replace(\"good\",1,inplace=True)\n",
        "wine_data['quality'].replace(\"bad\",0,inplace=True)\n",
        "wine_data['quality'].astype(int)\n",
        "\n",
        "\n",
        "\n"
      ],
      "metadata": {
        "colab": {
          "base_uri": "https://localhost:8080/"
        },
        "id": "hO3FCJC5s0t1",
        "outputId": "46572822-007f-431b-b19d-000e1eab6d24"
      },
      "execution_count": 19,
      "outputs": [
        {
          "output_type": "stream",
          "name": "stdout",
          "text": [
            "Null Values :  fixed acidity           0\n",
            "volatile acidity        0\n",
            "citric acid             0\n",
            "residual sugar          0\n",
            "chlorides               0\n",
            "free sulfur dioxide     0\n",
            "total sulfur dioxide    0\n",
            "density                 0\n",
            "pH                      0\n",
            "sulphates               0\n",
            "alcohol                 0\n",
            "quality                 0\n",
            "dtype: int64\n"
          ]
        },
        {
          "output_type": "execute_result",
          "data": {
            "text/plain": [
              "0       0\n",
              "1       0\n",
              "2       0\n",
              "3       1\n",
              "4       0\n",
              "       ..\n",
              "1594    0\n",
              "1595    1\n",
              "1596    1\n",
              "1597    0\n",
              "1598    1\n",
              "Name: quality, Length: 1599, dtype: int64"
            ]
          },
          "metadata": {},
          "execution_count": 19
        }
      ]
    },
    {
      "cell_type": "code",
      "source": [
        "wine_data.info()"
      ],
      "metadata": {
        "colab": {
          "base_uri": "https://localhost:8080/"
        },
        "id": "34iZazIkv6Bi",
        "outputId": "a4091ced-b01e-4342-ea08-f35cdad38126"
      },
      "execution_count": 20,
      "outputs": [
        {
          "output_type": "stream",
          "name": "stdout",
          "text": [
            "<class 'pandas.core.frame.DataFrame'>\n",
            "RangeIndex: 1599 entries, 0 to 1598\n",
            "Data columns (total 12 columns):\n",
            " #   Column                Non-Null Count  Dtype  \n",
            "---  ------                --------------  -----  \n",
            " 0   fixed acidity         1599 non-null   float64\n",
            " 1   volatile acidity      1599 non-null   float64\n",
            " 2   citric acid           1599 non-null   float64\n",
            " 3   residual sugar        1599 non-null   float64\n",
            " 4   chlorides             1599 non-null   float64\n",
            " 5   free sulfur dioxide   1599 non-null   float64\n",
            " 6   total sulfur dioxide  1599 non-null   float64\n",
            " 7   density               1599 non-null   float64\n",
            " 8   pH                    1599 non-null   float64\n",
            " 9   sulphates             1599 non-null   float64\n",
            " 10  alcohol               1599 non-null   float64\n",
            " 11  quality               1599 non-null   int64  \n",
            "dtypes: float64(11), int64(1)\n",
            "memory usage: 150.0 KB\n"
          ]
        }
      ]
    },
    {
      "cell_type": "markdown",
      "source": [
        "# Q4"
      ],
      "metadata": {
        "id": "GXBaHAE97Ceg"
      }
    },
    {
      "cell_type": "code",
      "source": [
        "features = wine_data.drop(columns=['quality'])\n",
        "target = wine_data['quality']"
      ],
      "metadata": {
        "id": "VMmp-5P6tlD3"
      },
      "execution_count": 21,
      "outputs": []
    },
    {
      "cell_type": "markdown",
      "source": [
        "# Q5"
      ],
      "metadata": {
        "id": "XfbCcIdy7FS8"
      }
    },
    {
      "cell_type": "code",
      "source": [
        "X_train, X_temp, y_train, y_temp = train_test_split(features, target, test_size=0.2, random_state=42)\n",
        "X_val, X_test, y_val, y_test = train_test_split(X_temp, y_temp, test_size=0.5, random_state=42)"
      ],
      "metadata": {
        "id": "1_0RA1LsttO9"
      },
      "execution_count": 23,
      "outputs": []
    },
    {
      "cell_type": "markdown",
      "source": [
        "# Q6"
      ],
      "metadata": {
        "id": "FG9w21Ci7Hx5"
      }
    },
    {
      "cell_type": "code",
      "source": [
        "scaler = StandardScaler()\n",
        "X_train_scaled = scaler.fit_transform(X_train)\n",
        "X_val_scaled = scaler.transform(X_val)\n",
        "X_test_scaled = scaler.transform(X_test)"
      ],
      "metadata": {
        "id": "mgIpezs_zJSe"
      },
      "execution_count": 24,
      "outputs": []
    },
    {
      "cell_type": "markdown",
      "source": [
        "# Q7 and Q8"
      ],
      "metadata": {
        "id": "_fG2brCo7LIS"
      }
    },
    {
      "cell_type": "code",
      "source": [
        "input_dim = X_train_scaled.shape[1]  # Number of features\n",
        "model = Sequential([\n",
        "layers.Dense(units=64,activation='relu',input_shape=(input_dim,)), # Input layer\n",
        "layers.Dense(units=128,activation='relu'),  # Hidden layer 1\n",
        "layers.Dense(units=64, activation='relu'),   # Hidden layer 2\n",
        "layers.Dense(units=1, activation='sigmoid'),  # Output layer\n",
        "])"
      ],
      "metadata": {
        "id": "QERnYe6EzOWN"
      },
      "execution_count": 25,
      "outputs": []
    },
    {
      "cell_type": "markdown",
      "source": [
        "# Q9"
      ],
      "metadata": {
        "id": "80fr-Ycz7Psg"
      }
    },
    {
      "cell_type": "code",
      "source": [
        "model.summary()"
      ],
      "metadata": {
        "colab": {
          "base_uri": "https://localhost:8080/"
        },
        "id": "j9uJM1Pv04k2",
        "outputId": "c5d7a22c-4725-46bb-ac30-f899eebf140d"
      },
      "execution_count": 26,
      "outputs": [
        {
          "output_type": "stream",
          "name": "stdout",
          "text": [
            "Model: \"sequential\"\n",
            "_________________________________________________________________\n",
            " Layer (type)                Output Shape              Param #   \n",
            "=================================================================\n",
            " dense (Dense)               (None, 64)                768       \n",
            "                                                                 \n",
            " dense_1 (Dense)             (None, 128)               8320      \n",
            "                                                                 \n",
            " dense_2 (Dense)             (None, 64)                8256      \n",
            "                                                                 \n",
            " dense_3 (Dense)             (None, 1)                 65        \n",
            "                                                                 \n",
            "=================================================================\n",
            "Total params: 17,409\n",
            "Trainable params: 17,409\n",
            "Non-trainable params: 0\n",
            "_________________________________________________________________\n"
          ]
        }
      ]
    },
    {
      "cell_type": "markdown",
      "source": [
        "# Q10 and Q11"
      ],
      "metadata": {
        "id": "9QSn33Mf7TSA"
      }
    },
    {
      "cell_type": "code",
      "source": [
        "model.compile(optimizer='adam',\n",
        "              loss = 'binary_crossentropy',\n",
        "              metrics = ['accuracy']\n",
        "              )"
      ],
      "metadata": {
        "id": "VOQpxBKO1FPd"
      },
      "execution_count": 27,
      "outputs": []
    },
    {
      "cell_type": "markdown",
      "source": [
        "# Q12"
      ],
      "metadata": {
        "id": "WMIDcZcI7Wa4"
      }
    },
    {
      "cell_type": "code",
      "source": [
        "history = model.fit(X_train_scaled,y_train,epochs=50,batch_size=32,validation_data=(X_val_scaled,y_val))"
      ],
      "metadata": {
        "colab": {
          "base_uri": "https://localhost:8080/"
        },
        "id": "RP0HuMIE1nSN",
        "outputId": "945d1078-aecb-4d19-fab5-73eb6a3ade22"
      },
      "execution_count": 28,
      "outputs": [
        {
          "output_type": "stream",
          "name": "stdout",
          "text": [
            "Epoch 1/50\n",
            "40/40 [==============================] - 2s 6ms/step - loss: 0.6074 - accuracy: 0.6669 - val_loss: 0.5430 - val_accuracy: 0.7109\n",
            "Epoch 2/50\n",
            "40/40 [==============================] - 0s 2ms/step - loss: 0.5204 - accuracy: 0.7443 - val_loss: 0.5212 - val_accuracy: 0.7109\n",
            "Epoch 3/50\n",
            "40/40 [==============================] - 0s 2ms/step - loss: 0.4960 - accuracy: 0.7568 - val_loss: 0.5437 - val_accuracy: 0.7031\n",
            "Epoch 4/50\n",
            "40/40 [==============================] - 0s 2ms/step - loss: 0.4846 - accuracy: 0.7662 - val_loss: 0.5109 - val_accuracy: 0.7344\n",
            "Epoch 5/50\n",
            "40/40 [==============================] - 0s 2ms/step - loss: 0.4729 - accuracy: 0.7764 - val_loss: 0.5110 - val_accuracy: 0.7383\n",
            "Epoch 6/50\n",
            "40/40 [==============================] - 0s 2ms/step - loss: 0.4682 - accuracy: 0.7795 - val_loss: 0.5065 - val_accuracy: 0.7188\n",
            "Epoch 7/50\n",
            "40/40 [==============================] - 0s 2ms/step - loss: 0.4624 - accuracy: 0.7881 - val_loss: 0.5150 - val_accuracy: 0.7500\n",
            "Epoch 8/50\n",
            "40/40 [==============================] - 0s 2ms/step - loss: 0.4521 - accuracy: 0.7944 - val_loss: 0.4908 - val_accuracy: 0.7539\n",
            "Epoch 9/50\n",
            "40/40 [==============================] - 0s 2ms/step - loss: 0.4408 - accuracy: 0.7881 - val_loss: 0.5036 - val_accuracy: 0.7383\n",
            "Epoch 10/50\n",
            "40/40 [==============================] - 0s 2ms/step - loss: 0.4341 - accuracy: 0.7952 - val_loss: 0.4796 - val_accuracy: 0.7695\n",
            "Epoch 11/50\n",
            "40/40 [==============================] - 0s 2ms/step - loss: 0.4244 - accuracy: 0.8069 - val_loss: 0.4970 - val_accuracy: 0.7539\n",
            "Epoch 12/50\n",
            "40/40 [==============================] - 0s 2ms/step - loss: 0.4155 - accuracy: 0.8155 - val_loss: 0.4897 - val_accuracy: 0.7773\n",
            "Epoch 13/50\n",
            "40/40 [==============================] - 0s 2ms/step - loss: 0.4085 - accuracy: 0.8124 - val_loss: 0.4723 - val_accuracy: 0.7773\n",
            "Epoch 14/50\n",
            "40/40 [==============================] - 0s 2ms/step - loss: 0.4047 - accuracy: 0.8178 - val_loss: 0.4761 - val_accuracy: 0.7656\n",
            "Epoch 15/50\n",
            "40/40 [==============================] - 0s 2ms/step - loss: 0.3870 - accuracy: 0.8264 - val_loss: 0.4952 - val_accuracy: 0.7500\n",
            "Epoch 16/50\n",
            "40/40 [==============================] - 0s 2ms/step - loss: 0.3796 - accuracy: 0.8319 - val_loss: 0.4654 - val_accuracy: 0.7930\n",
            "Epoch 17/50\n",
            "40/40 [==============================] - 0s 2ms/step - loss: 0.3725 - accuracy: 0.8350 - val_loss: 0.4727 - val_accuracy: 0.7734\n",
            "Epoch 18/50\n",
            "40/40 [==============================] - 0s 2ms/step - loss: 0.3694 - accuracy: 0.8342 - val_loss: 0.4589 - val_accuracy: 0.7969\n",
            "Epoch 19/50\n",
            "40/40 [==============================] - 0s 2ms/step - loss: 0.3563 - accuracy: 0.8358 - val_loss: 0.4525 - val_accuracy: 0.8125\n",
            "Epoch 20/50\n",
            "40/40 [==============================] - 0s 2ms/step - loss: 0.3428 - accuracy: 0.8499 - val_loss: 0.4984 - val_accuracy: 0.8008\n",
            "Epoch 21/50\n",
            "40/40 [==============================] - 0s 2ms/step - loss: 0.3451 - accuracy: 0.8468 - val_loss: 0.5081 - val_accuracy: 0.7930\n",
            "Epoch 22/50\n",
            "40/40 [==============================] - 0s 3ms/step - loss: 0.3347 - accuracy: 0.8538 - val_loss: 0.4642 - val_accuracy: 0.8125\n",
            "Epoch 23/50\n",
            "40/40 [==============================] - 0s 2ms/step - loss: 0.3326 - accuracy: 0.8475 - val_loss: 0.4696 - val_accuracy: 0.8008\n",
            "Epoch 24/50\n",
            "40/40 [==============================] - 0s 2ms/step - loss: 0.3161 - accuracy: 0.8655 - val_loss: 0.4672 - val_accuracy: 0.8164\n",
            "Epoch 25/50\n",
            "40/40 [==============================] - 0s 2ms/step - loss: 0.3071 - accuracy: 0.8726 - val_loss: 0.4909 - val_accuracy: 0.8047\n",
            "Epoch 26/50\n",
            "40/40 [==============================] - 0s 2ms/step - loss: 0.2919 - accuracy: 0.8835 - val_loss: 0.4879 - val_accuracy: 0.8203\n",
            "Epoch 27/50\n",
            "40/40 [==============================] - 0s 2ms/step - loss: 0.2955 - accuracy: 0.8726 - val_loss: 0.4942 - val_accuracy: 0.8086\n",
            "Epoch 28/50\n",
            "40/40 [==============================] - 0s 2ms/step - loss: 0.2696 - accuracy: 0.8937 - val_loss: 0.4716 - val_accuracy: 0.8164\n",
            "Epoch 29/50\n",
            "40/40 [==============================] - 0s 2ms/step - loss: 0.2587 - accuracy: 0.8944 - val_loss: 0.4886 - val_accuracy: 0.8281\n",
            "Epoch 30/50\n",
            "40/40 [==============================] - 0s 2ms/step - loss: 0.2544 - accuracy: 0.8960 - val_loss: 0.4721 - val_accuracy: 0.8281\n",
            "Epoch 31/50\n",
            "40/40 [==============================] - 0s 2ms/step - loss: 0.2557 - accuracy: 0.8999 - val_loss: 0.4884 - val_accuracy: 0.8164\n",
            "Epoch 32/50\n",
            "40/40 [==============================] - 0s 2ms/step - loss: 0.2393 - accuracy: 0.8984 - val_loss: 0.4974 - val_accuracy: 0.8047\n",
            "Epoch 33/50\n",
            "40/40 [==============================] - 0s 2ms/step - loss: 0.2362 - accuracy: 0.9140 - val_loss: 0.5077 - val_accuracy: 0.7695\n",
            "Epoch 34/50\n",
            "40/40 [==============================] - 0s 2ms/step - loss: 0.2261 - accuracy: 0.9140 - val_loss: 0.5207 - val_accuracy: 0.8008\n",
            "Epoch 35/50\n",
            "40/40 [==============================] - 0s 2ms/step - loss: 0.2195 - accuracy: 0.9203 - val_loss: 0.5368 - val_accuracy: 0.7891\n",
            "Epoch 36/50\n",
            "40/40 [==============================] - 0s 3ms/step - loss: 0.1992 - accuracy: 0.9312 - val_loss: 0.5563 - val_accuracy: 0.8047\n",
            "Epoch 37/50\n",
            "40/40 [==============================] - 0s 2ms/step - loss: 0.1997 - accuracy: 0.9242 - val_loss: 0.5433 - val_accuracy: 0.8047\n",
            "Epoch 38/50\n",
            "40/40 [==============================] - 0s 2ms/step - loss: 0.1866 - accuracy: 0.9320 - val_loss: 0.5371 - val_accuracy: 0.8086\n",
            "Epoch 39/50\n",
            "40/40 [==============================] - 0s 2ms/step - loss: 0.2012 - accuracy: 0.9265 - val_loss: 0.5697 - val_accuracy: 0.8008\n",
            "Epoch 40/50\n",
            "40/40 [==============================] - 0s 2ms/step - loss: 0.1818 - accuracy: 0.9343 - val_loss: 0.5888 - val_accuracy: 0.7891\n",
            "Epoch 41/50\n",
            "40/40 [==============================] - 0s 2ms/step - loss: 0.1886 - accuracy: 0.9281 - val_loss: 0.5563 - val_accuracy: 0.7930\n",
            "Epoch 42/50\n",
            "40/40 [==============================] - 0s 2ms/step - loss: 0.1747 - accuracy: 0.9359 - val_loss: 0.6214 - val_accuracy: 0.7773\n",
            "Epoch 43/50\n",
            "40/40 [==============================] - 0s 2ms/step - loss: 0.1718 - accuracy: 0.9304 - val_loss: 0.6141 - val_accuracy: 0.7812\n",
            "Epoch 44/50\n",
            "40/40 [==============================] - 0s 2ms/step - loss: 0.1607 - accuracy: 0.9468 - val_loss: 0.6206 - val_accuracy: 0.7969\n",
            "Epoch 45/50\n",
            "40/40 [==============================] - 0s 2ms/step - loss: 0.1486 - accuracy: 0.9500 - val_loss: 0.6291 - val_accuracy: 0.7891\n",
            "Epoch 46/50\n",
            "40/40 [==============================] - 0s 3ms/step - loss: 0.1342 - accuracy: 0.9562 - val_loss: 0.6666 - val_accuracy: 0.7734\n",
            "Epoch 47/50\n",
            "40/40 [==============================] - 0s 2ms/step - loss: 0.1411 - accuracy: 0.9531 - val_loss: 0.6420 - val_accuracy: 0.8008\n",
            "Epoch 48/50\n",
            "40/40 [==============================] - 0s 2ms/step - loss: 0.1204 - accuracy: 0.9640 - val_loss: 0.6451 - val_accuracy: 0.7930\n",
            "Epoch 49/50\n",
            "40/40 [==============================] - 0s 2ms/step - loss: 0.1183 - accuracy: 0.9633 - val_loss: 0.6966 - val_accuracy: 0.8125\n",
            "Epoch 50/50\n",
            "40/40 [==============================] - 0s 2ms/step - loss: 0.1165 - accuracy: 0.9672 - val_loss: 0.6822 - val_accuracy: 0.8047\n"
          ]
        }
      ]
    },
    {
      "cell_type": "markdown",
      "source": [
        "# Q13"
      ],
      "metadata": {
        "id": "7FLnP0Y97b6S"
      }
    },
    {
      "cell_type": "code",
      "source": [
        "model_weights = model.get_weights()"
      ],
      "metadata": {
        "id": "SRUbRBSV2Qr1"
      },
      "execution_count": 30,
      "outputs": []
    },
    {
      "cell_type": "markdown",
      "source": [
        "# Q14"
      ],
      "metadata": {
        "id": "sz4wkyZF8J3L"
      }
    },
    {
      "cell_type": "code",
      "source": [
        "history_df = pd.DataFrame(history.history)"
      ],
      "metadata": {
        "id": "hFeeX5OL2eE_"
      },
      "execution_count": 31,
      "outputs": []
    },
    {
      "cell_type": "markdown",
      "source": [
        "# Q15"
      ],
      "metadata": {
        "id": "8Nl2d8zs8OQh"
      }
    },
    {
      "cell_type": "markdown",
      "source": [
        "## Plot training & validation accuracy values"
      ],
      "metadata": {
        "id": "0tP_-CX78Z8J"
      }
    },
    {
      "cell_type": "code",
      "source": [
        "# Plot training & validation accuracy values\n",
        "plt.plot(history.history['accuracy'])\n",
        "plt.plot(history.history['val_accuracy'])\n",
        "plt.title('Training History [Model accuracy]')\n",
        "plt.ylabel('Accuracy')\n",
        "plt.xlabel('Epoch')\n",
        "plt.legend(['accuracy', 'val_accuracy'], loc='upper left')\n",
        "plt.show()"
      ],
      "metadata": {
        "colab": {
          "base_uri": "https://localhost:8080/",
          "height": 472
        },
        "id": "Gi0wX1lq3RLW",
        "outputId": "0d2c9966-945b-4f20-c635-5ec33a6ad5ec"
      },
      "execution_count": 35,
      "outputs": [
        {
          "output_type": "display_data",
          "data": {
            "text/plain": [
              "<Figure size 640x480 with 1 Axes>"
            ],
            "image/png": "[encoded data removed]"
          },
          "metadata": {}
        }
      ]
    },
    {
      "cell_type": "markdown",
      "source": [
        "## Plot training & validation loss values"
      ],
      "metadata": {
        "id": "Qf_5Qq8z8dWQ"
      }
    },
    {
      "cell_type": "code",
      "source": [
        "# Plot training & validation loss values\n",
        "plt.plot(history.history['loss'])\n",
        "plt.plot(history.history['val_loss'])\n",
        "plt.title('Training History [Model loss]')\n",
        "plt.ylabel('Loss')\n",
        "plt.xlabel('Epoch')\n",
        "plt.legend(['loss', 'val_loss'], loc='upper left')\n",
        "plt.show()"
      ],
      "metadata": {
        "colab": {
          "base_uri": "https://localhost:8080/",
          "height": 472
        },
        "id": "voA-36l-3YTn",
        "outputId": "8bc79315-05a8-43ca-eb80-f80e2a3c76fb"
      },
      "execution_count": 37,
      "outputs": [
        {
          "output_type": "display_data",
          "data": {
            "text/plain": [
              "<Figure size 640x480 with 1 Axes>"
            ],
            "image/png": "[encoded data removed]"
          },
          "metadata": {}
        }
      ]
    },
    {
      "cell_type": "markdown",
      "source": [
        "# **Q16**"
      ],
      "metadata": {
        "id": "do5Y8d8V8jcp"
      }
    },
    {
      "cell_type": "code",
      "source": [
        "test_loss,test_accuracy = model.evaluate(X_test_scaled,y_test)\n",
        "print(\"Test Loss:\", test_loss)\n",
        "print(\"Test Accuracy:\", test_accuracy)"
      ],
      "metadata": {
        "colab": {
          "base_uri": "https://localhost:8080/"
        },
        "id": "ua7Yi-k33cIf",
        "outputId": "6d834c44-a101-4125-ccd3-dbc930138ea3"
      },
      "execution_count": 38,
      "outputs": [
        {
          "output_type": "stream",
          "name": "stdout",
          "text": [
            "2/2 [==============================] - 0s 9ms/step - loss: 0.9367 - accuracy: 0.7500\n",
            "Test Loss: 0.9367035627365112\n",
            "Test Accuracy: 0.75\n"
          ]
        }
      ]
    },
    {
      "cell_type": "code",
      "source": [],
      "metadata": {
        "id": "N2Ln3_jn5LMv"
      },
      "execution_count": null,
      "outputs": []
    },
    {
      "cell_type": "markdown",
      "source": [
        "# End"
      ],
      "metadata": {
        "id": "PH5YXq9p8qhi"
      }
    },
    {
      "cell_type": "code",
      "source": [],
      "metadata": {
        "id": "C3RilRZx8sj4"
      },
      "execution_count": null,
      "outputs": []
    }
  ]
}